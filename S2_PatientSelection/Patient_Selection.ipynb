{
 "cells": [
  {
   "cell_type": "code",
   "execution_count": 37,
   "id": "237cdfe1-3240-403b-b74d-f01fbe422fec",
   "metadata": {},
   "outputs": [],
   "source": [
    "import pandas as pd\n",
    "import os"
   ]
  },
  {
   "cell_type": "markdown",
   "id": "3dc2c129-b2cd-49bf-bf00-655c9d778d9b",
   "metadata": {},
   "source": [
    "# 1 - Load data"
   ]
  },
  {
   "cell_type": "code",
   "execution_count": 2,
   "id": "c2cca89a-3826-4833-96bd-f8e0b3f3b6af",
   "metadata": {},
   "outputs": [],
   "source": [
    "metadataIR3 = pd.read_csv('metaDataIR3.csv')\n",
    "Drug_categories = pd.read_csv('minimal_DF_03102023.csv') # data corresponding to 1600 patients"
   ]
  },
  {
   "cell_type": "markdown",
   "id": "bae9618e-5f25-4445-9ef8-28a8bc43e1a2",
   "metadata": {},
   "source": [
    "# 2 - Merge data"
   ]
  },
  {
   "cell_type": "code",
   "execution_count": 3,
   "id": "bf151ca8-97cb-44bf-bf0d-b24b65e3a1f5",
   "metadata": {},
   "outputs": [],
   "source": [
    "merged_df = metadataIR3.merge(Drug_categories, on = 'PATNO', how = 'left')"
   ]
  },
  {
   "cell_type": "markdown",
   "id": "4acd7fb7-80a5-48c2-99c5-6098998ee39b",
   "metadata": {},
   "source": [
    "# 3 - Descriptive information\n",
    "\n",
    "## 3.1 - Number of patients with drug metadata"
   ]
  },
  {
   "cell_type": "code",
   "execution_count": 10,
   "id": "127401e9-8a04-4f59-b91c-c83b11812858",
   "metadata": {},
   "outputs": [
    {
     "name": "stdout",
     "output_type": "stream",
     "text": [
      "The total number of patients with drug metadata is: 1592.\n"
     ]
    }
   ],
   "source": [
    "total_unique_drug_categories = merged_df[['Drug_Category','PATNO']].drop_duplicates()['Drug_Category'].value_counts().sum()\n",
    "# Creating the f-string\n",
    "result_string = f\"The total number of patients with drug metadata is: {total_unique_drug_categories}.\"\n",
    "print(result_string)"
   ]
  },
  {
   "cell_type": "markdown",
   "id": "f53272b8-a530-4c3d-89af-58ade8d2043f",
   "metadata": {},
   "source": [
    "## 3.2 - Distribution of patients according to their drug category"
   ]
  },
  {
   "cell_type": "code",
   "execution_count": 11,
   "id": "73550f86-88a7-437a-b3b9-80d69cdfeb60",
   "metadata": {},
   "outputs": [
    {
     "data": {
      "text/plain": [
       "Drug_Category\n",
       "Both                          787\n",
       "No treatments                 449\n",
       "Non-disease-modifying only    340\n",
       "Disease-modifying only         16\n",
       "Name: count, dtype: int64"
      ]
     },
     "execution_count": 11,
     "metadata": {},
     "output_type": "execute_result"
    }
   ],
   "source": [
    "merged_df[['Drug_Category','PATNO']].drop_duplicates()['Drug_Category'].value_counts()"
   ]
  },
  {
   "cell_type": "markdown",
   "id": "d88d52a3-d4ef-4b2f-87d3-34ac44bbdfa7",
   "metadata": {},
   "source": [
    "## 3.3 - NAIVE PATIENTS"
   ]
  },
  {
   "cell_type": "markdown",
   "id": "3001560b-f63c-4b93-8bc3-a5da34d6ea9e",
   "metadata": {},
   "source": [
    "### 3.3.1 - Number of naive patients"
   ]
  },
  {
   "cell_type": "code",
   "execution_count": 30,
   "id": "774936e7-d306-4892-97a4-494f21e309d1",
   "metadata": {},
   "outputs": [
    {
     "name": "stdout",
     "output_type": "stream",
     "text": [
      "The total number of naive patients: 449.\n"
     ]
    }
   ],
   "source": [
    "naive_patients = len(merged_df[merged_df['Drug_Category'].isin(['No treatments'])]['PATNO'].unique())\n",
    "naive_string = f\"The total number of naive patients: {naive_patients}.\"\n",
    "print(naive_string)"
   ]
  },
  {
   "cell_type": "markdown",
   "id": "1981a6d7-dc40-46d7-9221-a61dc02d3f2f",
   "metadata": {},
   "source": [
    "### 3.3.2 - Number of patient samples without drug treatments"
   ]
  },
  {
   "cell_type": "code",
   "execution_count": 18,
   "id": "2c1dc7f1-f300-475b-9a3b-2a980a479fb6",
   "metadata": {},
   "outputs": [
    {
     "name": "stdout",
     "output_type": "stream",
     "text": [
      "The total number of samples with no drug treatments is: 1096.\n"
     ]
    }
   ],
   "source": [
    "number_of_samples = merged_df[merged_df['Drug_Category'] == 'No treatments'].shape[0]\n",
    "number_string = f\"The total number of samples with no drug treatments is: {number_of_samples}.\"\n",
    "print(number_string)"
   ]
  },
  {
   "cell_type": "markdown",
   "id": "6f0ae05f-77d6-4cbb-ab07-bbcc6a75c9a7",
   "metadata": {},
   "source": [
    "### 3.3.3 - Distribution of naive patients by 'Case Control' and 'Month' labels "
   ]
  },
  {
   "cell_type": "code",
   "execution_count": 21,
   "id": "95a28c35-ddb0-4704-a2fd-a0000816bea0",
   "metadata": {},
   "outputs": [
    {
     "data": {
      "text/plain": [
       "Case Control  Month\n",
       "Control       M0       309\n",
       "Case          M0       286\n",
       "              M24      140\n",
       "Control       M24      107\n",
       "Case          M12       54\n",
       "Control       M12       44\n",
       "Case          M06       41\n",
       "Control       M06       41\n",
       "Case          M36       30\n",
       "Control       M36       18\n",
       "Other         M0        18\n",
       "              M24        6\n",
       "Name: count, dtype: int64"
      ]
     },
     "execution_count": 21,
     "metadata": {},
     "output_type": "execute_result"
    }
   ],
   "source": [
    "merged_df[merged_df['Drug_Category'] == 'No treatments'][['Case Control','Month']].value_counts()"
   ]
  },
  {
   "cell_type": "markdown",
   "id": "8e37391c-2ee8-42ec-b580-064cd4d5081e",
   "metadata": {},
   "source": [
    "## 3.4 - NAIVE PATIENTS AND WITH NOT-MODIFYING DRUGS INTERVENTIONS\n",
    "\n",
    "### 3.4.1 - Number of naive patients + Not-modifying interventions"
   ]
  },
  {
   "cell_type": "code",
   "execution_count": 31,
   "id": "2d73efb3-91df-4821-b3af-e07482a9a9c7",
   "metadata": {},
   "outputs": [
    {
     "name": "stdout",
     "output_type": "stream",
     "text": [
      "The total number of naive patients and with non-disease modifying interventions: 789.\n"
     ]
    }
   ],
   "source": [
    "naiveANDnd_patients = len(merged_df[merged_df['Drug_Category'].isin(['No treatments','Non-disease-modifying only'])]['PATNO'].unique())\n",
    "naiveANDnd_string = f\"The total number of naive patients and with non-disease modifying interventions: {naiveANDnd_patients }.\"\n",
    "print(naiveANDnd_string)"
   ]
  },
  {
   "cell_type": "markdown",
   "id": "61c65d64-112d-4a5b-b0a7-cf463e9c4ad6",
   "metadata": {},
   "source": [
    "### 3.4.2 - Number of naive patients + Not-modifying interventions"
   ]
  },
  {
   "cell_type": "code",
   "execution_count": 23,
   "id": "a0d7568c-c23d-4190-b1aa-f3cda09456c9",
   "metadata": {},
   "outputs": [
    {
     "name": "stdout",
     "output_type": "stream",
     "text": [
      "The total number of samples with no drug treatments or with non disease-modifying drugs is: 5744.\n"
     ]
    }
   ],
   "source": [
    "number_of_samples_relaxed = merged_df[merged_df['Drug_Category'].isin(['No treatments','Non-disease-modifying only'])].shape[0]\n",
    "number_string = f\"The total number of samples with no drug treatments or with non disease-modifying drugs is: {number_of_samples_relaxed}.\"\n",
    "print(number_string)"
   ]
  },
  {
   "cell_type": "markdown",
   "id": "139ffa79-d4a8-4cd1-abef-7e013282aaea",
   "metadata": {},
   "source": [
    "### 3.3.4 - Distribution of naive + non-disease modifying interventions patients by 'Case Control' and 'Month' labels "
   ]
  },
  {
   "cell_type": "code",
   "execution_count": 24,
   "id": "a4cd1858-c4df-41b1-8b76-56c8b1d1f336",
   "metadata": {},
   "outputs": [
    {
     "data": {
      "text/plain": [
       "Case Control  Month\n",
       "Case          M0       946\n",
       "Control       M0       710\n",
       "Case          M24      667\n",
       "              M12      643\n",
       "              M06      565\n",
       "Control       M24      420\n",
       "              M12      394\n",
       "              M06      372\n",
       "Case          M36      346\n",
       "Control       M36      253\n",
       "Other         M0       115\n",
       "              M12       99\n",
       "              M24       93\n",
       "              M06       83\n",
       "              M36       29\n",
       "Name: count, dtype: int64"
      ]
     },
     "execution_count": 24,
     "metadata": {},
     "output_type": "execute_result"
    }
   ],
   "source": [
    "merged_df[merged_df['Drug_Category'].isin(['No treatments','Non-disease-modifying only'])][['Case Control','Month']].value_counts()"
   ]
  },
  {
   "cell_type": "markdown",
   "id": "e472beb9-c32c-4073-8720-58b5ebd6c26c",
   "metadata": {},
   "source": [
    "# 4 - Export HudAlphaID for data selection"
   ]
  },
  {
   "cell_type": "code",
   "execution_count": 39,
   "id": "c0cd95a4-7ebf-46e2-bc3f-00c71fe8e7a5",
   "metadata": {},
   "outputs": [],
   "source": [
    "# Define the folder name where you want to store the output\n",
    "folder_name = 'output-hud_alpha_ids'\n",
    "# Define the full path for the folder (you can adjust this path as needed)\n",
    "folder_path = os.path.join(os.getcwd(), folder_name)"
   ]
  },
  {
   "cell_type": "code",
   "execution_count": 40,
   "id": "f41ea499-53ac-4497-a59b-c0be0eb2eae8",
   "metadata": {},
   "outputs": [],
   "source": [
    "# Step 2: Create the folder if it doesn't already exist\n",
    "if not os.path.exists(folder_path):\n",
    "    os.makedirs(folder_path)"
   ]
  },
  {
   "cell_type": "code",
   "execution_count": 41,
   "id": "f7f56dd9-90bc-49f5-a956-5a90c45a95c7",
   "metadata": {},
   "outputs": [
    {
     "name": "stdout",
     "output_type": "stream",
     "text": [
      "File saved to /home/jovyan/work/output-hud_alpha_ids/unique_hud_alpha_ids.tsv\n"
     ]
    }
   ],
   "source": [
    "# Assuming you have your DataFrame ready\n",
    "# Extract the unique values as per your condition\n",
    "unique_hud_alpha_ids = merged_df[merged_df['Drug_Category'].isin(['No treatments', 'Non-disease-modifying only'])]['HudAlphaID'].unique()\n",
    "\n",
    "# Convert the array into a DataFrame\n",
    "unique_ids_df = pd.DataFrame(unique_hud_alpha_ids, columns=['HudAlphaID'])\n",
    "\n",
    "# Step 3: Generate the file path for the TSV file\n",
    "file_path = os.path.join(folder_path, 'unique_hud_alpha_ids.tsv')\n",
    "\n",
    "# Step 4: Export the DataFrame to a TSV file\n",
    "unique_ids_df.to_csv(file_path, sep='\\t', index=False)\n",
    "\n",
    "print(f\"File saved to {file_path}\")"
   ]
  }
 ],
 "metadata": {
  "kernelspec": {
   "display_name": "Python 3 (ipykernel)",
   "language": "python",
   "name": "python3"
  },
  "language_info": {
   "codemirror_mode": {
    "name": "ipython",
    "version": 3
   },
   "file_extension": ".py",
   "mimetype": "text/x-python",
   "name": "python",
   "nbconvert_exporter": "python",
   "pygments_lexer": "ipython3",
   "version": "3.11.6"
  }
 },
 "nbformat": 4,
 "nbformat_minor": 5
}
