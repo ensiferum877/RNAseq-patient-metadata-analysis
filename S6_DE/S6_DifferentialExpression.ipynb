{
 "cells": [
  {
   "cell_type": "markdown",
   "id": "70a8b6af-8aaa-4f3f-9d2e-a8598e926b9c",
   "metadata": {},
   "source": [
    "# 1 - Loading libraries"
   ]
  },
  {
   "cell_type": "code",
   "execution_count": 1,
   "id": "26dae095-33b6-42ef-b063-b048da00f2dc",
   "metadata": {},
   "outputs": [
    {
     "name": "stderr",
     "output_type": "stream",
     "text": [
      "Loading required package: BiocGenerics\n",
      "\n",
      "\n",
      "Attaching package: ‘BiocGenerics’\n",
      "\n",
      "\n",
      "The following objects are masked from ‘package:stats’:\n",
      "\n",
      "    IQR, mad, sd, var, xtabs\n",
      "\n",
      "\n",
      "The following objects are masked from ‘package:base’:\n",
      "\n",
      "    anyDuplicated, aperm, append, as.data.frame, basename, cbind,\n",
      "    colnames, dirname, do.call, duplicated, eval, evalq, Filter, Find,\n",
      "    get, grep, grepl, intersect, is.unsorted, lapply, Map, mapply,\n",
      "    match, mget, order, paste, pmax, pmax.int, pmin, pmin.int,\n",
      "    Position, rank, rbind, Reduce, rownames, sapply, setdiff, sort,\n",
      "    table, tapply, union, unique, unsplit, which.max, which.min\n",
      "\n",
      "\n",
      "Loading required package: S4Vectors\n",
      "\n",
      "Loading required package: stats4\n",
      "\n",
      "\n",
      "Attaching package: ‘S4Vectors’\n",
      "\n",
      "\n",
      "The following object is masked from ‘package:utils’:\n",
      "\n",
      "    findMatches\n",
      "\n",
      "\n",
      "The following objects are masked from ‘package:base’:\n",
      "\n",
      "    expand.grid, I, unname\n",
      "\n",
      "\n",
      "Loading required package: IRanges\n",
      "\n",
      "Loading required package: GenomeInfoDb\n",
      "\n",
      "Loading required package: GenomicRanges\n",
      "\n",
      "Loading required package: AnnotationDbi\n",
      "\n",
      "Loading required package: Biobase\n",
      "\n",
      "Welcome to Bioconductor\n",
      "\n",
      "    Vignettes contain introductory material; view with\n",
      "    'browseVignettes()'. To cite Bioconductor, see\n",
      "    'citation(\"Biobase\")', and for packages 'citation(\"pkgname\")'.\n",
      "\n",
      "\n",
      "Loading required package: MatrixGenerics\n",
      "\n",
      "Loading required package: matrixStats\n",
      "\n",
      "\n",
      "Attaching package: ‘matrixStats’\n",
      "\n",
      "\n",
      "The following objects are masked from ‘package:Biobase’:\n",
      "\n",
      "    anyMissing, rowMedians\n",
      "\n",
      "\n",
      "\n",
      "Attaching package: ‘MatrixGenerics’\n",
      "\n",
      "\n",
      "The following objects are masked from ‘package:matrixStats’:\n",
      "\n",
      "    colAlls, colAnyNAs, colAnys, colAvgsPerRowSet, colCollapse,\n",
      "    colCounts, colCummaxs, colCummins, colCumprods, colCumsums,\n",
      "    colDiffs, colIQRDiffs, colIQRs, colLogSumExps, colMadDiffs,\n",
      "    colMads, colMaxs, colMeans2, colMedians, colMins, colOrderStats,\n",
      "    colProds, colQuantiles, colRanges, colRanks, colSdDiffs, colSds,\n",
      "    colSums2, colTabulates, colVarDiffs, colVars, colWeightedMads,\n",
      "    colWeightedMeans, colWeightedMedians, colWeightedSds,\n",
      "    colWeightedVars, rowAlls, rowAnyNAs, rowAnys, rowAvgsPerColSet,\n",
      "    rowCollapse, rowCounts, rowCummaxs, rowCummins, rowCumprods,\n",
      "    rowCumsums, rowDiffs, rowIQRDiffs, rowIQRs, rowLogSumExps,\n",
      "    rowMadDiffs, rowMads, rowMaxs, rowMeans2, rowMedians, rowMins,\n",
      "    rowOrderStats, rowProds, rowQuantiles, rowRanges, rowRanks,\n",
      "    rowSdDiffs, rowSds, rowSums2, rowTabulates, rowVarDiffs, rowVars,\n",
      "    rowWeightedMads, rowWeightedMeans, rowWeightedMedians,\n",
      "    rowWeightedSds, rowWeightedVars\n",
      "\n",
      "\n",
      "The following object is masked from ‘package:Biobase’:\n",
      "\n",
      "    rowMedians\n",
      "\n",
      "\n"
     ]
    }
   ],
   "source": [
    "library(GenomicFeatures)\n",
    "library(GenomicRanges)\n",
    "library(SummarizedExperiment)\n",
    "library(rtracklayer)\n",
    "library(consensusDE)"
   ]
  },
  {
   "cell_type": "markdown",
   "id": "491658e1-9179-4f10-a42d-0807cfa33880",
   "metadata": {},
   "source": [
    "# 2 - Make a txdb object from a GTF file"
   ]
  },
  {
   "cell_type": "code",
   "execution_count": 2,
   "id": "0cea567b-f40a-4ee7-9d59-86654df14e96",
   "metadata": {},
   "outputs": [
    {
     "name": "stderr",
     "output_type": "stream",
     "text": [
      "Import genomic features from the file as a GRanges object ... \n",
      "OK\n",
      "\n",
      "Prepare the 'metadata' data frame ... \n",
      "OK\n",
      "\n",
      "Make the TxDb object ... \n",
      "Warning message in .get_cds_IDX(mcols0$type, mcols0$phase):\n",
      "\"The \"phase\" metadata column contains non-NA values for features of type\n",
      "  stop_codon. This information was ignored.\"\n",
      "OK\n",
      "\n"
     ]
    }
   ],
   "source": [
    "gtf_path <- \"/home/jovyan/Data4Docker/gencode.v29.annotation.gtf\"\n",
    "txdb <- makeTxDbFromGFF(gtf_path, format=\"gtf\")\n",
    "genes <- genes(txdb)"
   ]
  },
  {
   "cell_type": "markdown",
   "id": "f5b5066f-34c5-43cc-8842-05a296e510bf",
   "metadata": {},
   "source": [
    "# 3 - Load RNA-seq count data"
   ]
  },
  {
   "cell_type": "code",
   "execution_count": 4,
   "id": "3a28d4aa-cb3f-459d-ac24-5c5641f18b0b",
   "metadata": {},
   "outputs": [],
   "source": [
    "counts_path <- \"/home/jovyan/Data4Docker/final_output.tsv\"\n",
    "counts <- as.matrix(read.delim(counts_path, header=TRUE, row.names=1,check.names=FALSE))"
   ]
  },
  {
   "cell_type": "markdown",
   "id": "02a79834-0ecc-4064-8d8e-aca3d1c6addd",
   "metadata": {},
   "source": [
    "# 4 - Filter txdb object"
   ]
  },
  {
   "cell_type": "code",
   "execution_count": 5,
   "id": "eda6a9e2-af9d-44b8-a768-6a3af2ffb745",
   "metadata": {},
   "outputs": [],
   "source": [
    "# Assuming the row names of your counts matrix are gene identifiers\n",
    "# And assuming gene_id in mcols(gene_info) can be matched to them\n",
    "valid_genes <- rownames(counts) %in% mcols(genes)$gene_id\n",
    "\n",
    "# Filter counts matrix to keep only rows for valid genes\n",
    "counts <- counts[valid_genes, ]\n",
    "\n",
    "# Filter gene_info based on the filtered counts\n",
    "filtered_gene_info <- genes[rownames(counts) %in% mcols(genes)$gene_id]\n",
    "\n",
    "# Ensure the order matches the counts matrix\n",
    "filtered_gene_info <- filtered_gene_info[match(rownames(counts), mcols(filtered_gene_info)$gene_id)]\n",
    "rownames(counts) <- mcols(filtered_gene_info)$gene_id\n",
    "colnames(counts) <- rownames(colData)"
   ]
  },
  {
   "cell_type": "markdown",
   "id": "c688d6a0-87e5-466b-8a44-398453e8c7f9",
   "metadata": {},
   "source": [
    "# 5 - Load metadata"
   ]
  },
  {
   "cell_type": "code",
   "execution_count": 6,
   "id": "cb12ed1e-6b73-42ba-b648-c66daa784f9d",
   "metadata": {},
   "outputs": [],
   "source": [
    "metadata_path <- \"/home/jovyan/Data4Docker/PD_metadata_filtered.csv\"\n",
    "metadata <- read.csv(metadata_path, header=TRUE,row.names=1)\n",
    "colData = DataFrame(metadata)"
   ]
  },
  {
   "cell_type": "markdown",
   "id": "0dfa01ee-6771-4fd7-abd6-6d807f7bc34c",
   "metadata": {},
   "source": [
    "# 6 - Create RangedSummarizedExperiment"
   ]
  },
  {
   "cell_type": "code",
   "execution_count": 7,
   "id": "04231472-33d5-46cd-9abd-423dc1371f56",
   "metadata": {},
   "outputs": [],
   "source": [
    "# Create the RangedSummarizedExperiment object\n",
    "rse <- SummarizedExperiment(rowRanges = filtered_gene_info,\n",
    "                            colData = metadata,\n",
    "                            assays = list(counts = counts))"
   ]
  },
  {
   "cell_type": "markdown",
   "id": "72679139-861d-4386-8e21-2070c87b4a7c",
   "metadata": {},
   "source": [
    "# 7 - Filter rse object "
   ]
  },
  {
   "cell_type": "code",
   "execution_count": 8,
   "id": "f36ac069-aa46-4fda-9ff2-10bb1357f0f4",
   "metadata": {},
   "outputs": [],
   "source": [
    "# Filter out samples where 'group' contains \"Other\" or is an empty string\n",
    "filtered_samples <- (grepl(\"Other\", colData(rse)$group, ignore.case = TRUE) | colData(rse)$group == \"\")\n",
    "\n",
    "# Filter out these samples from the SummarizedExperiment object\n",
    "rse <- rse[, !filtered_samples]"
   ]
  },
  {
   "cell_type": "markdown",
   "id": "7933c2de-f4da-420b-b191-4f5aab7c3840",
   "metadata": {},
   "source": [
    "# 6 - Perform differential expression analysis\n",
    "\n",
    "Columns of interest: group\n",
    "Created paired groups to make the analysis sustainable, otherwise the kernel may die\n",
    "\n",
    "## 6.1 - Load annotation libraries to attach gene symbol data to the DE results"
   ]
  },
  {
   "cell_type": "code",
   "execution_count": 9,
   "id": "1e2e56fc-9494-451c-b395-d72489e846b3",
   "metadata": {},
   "outputs": [
    {
     "name": "stderr",
     "output_type": "stream",
     "text": [
      "\n",
      "\n",
      "Loading required package: ensembldb\n",
      "\n",
      "Loading required package: AnnotationFilter\n",
      "\n",
      "\n",
      "Attaching package: 'ensembldb'\n",
      "\n",
      "\n",
      "The following object is masked from 'package:stats':\n",
      "\n",
      "    filter\n",
      "\n",
      "\n"
     ]
    }
   ],
   "source": [
    "library(org.Hs.eg.db)\n",
    "library(EnsDb.Hsapiens.v86)"
   ]
  },
  {
   "cell_type": "markdown",
   "id": "b3473f93-028e-4a8f-a5c3-6b5eb72595f2",
   "metadata": {},
   "source": [
    "## 6.2 - Filter features with low-counts"
   ]
  },
  {
   "cell_type": "code",
   "execution_count": 10,
   "id": "00cbf5f1-c54e-4b7d-b968-efb263b54052",
   "metadata": {},
   "outputs": [
    {
     "name": "stderr",
     "output_type": "stream",
     "text": [
      "Warning message in buildSummarized(summarized = rse, filter = TRUE, tx_db = txdb):\n",
      "\"No output directory provided. The se file and sample_table will not\n",
      "          be saved\"\n",
      "Warning message in buildSummarized(summarized = rse, filter = TRUE, tx_db = txdb):\n",
      "\"The summarized experiment provided does not include a \"file\"\n",
      "            column. This will create errors when running the DE analysis. Update\n",
      "            the summarized experiment with the experimental details before\n",
      "            processing to DE analysis\"\n",
      "A txdb was provided as input. Meta-data has been updated\n",
      "\n"
     ]
    }
   ],
   "source": [
    "rse <- buildSummarized(summarized = rse,\n",
    "                       filter = TRUE,\n",
    "                       tx_db = txdb)\n",
    "\n",
    "colData(rse)$file <- rownames(colData(rse)) # I added a feature named file in the colData DF"
   ]
  },
  {
   "cell_type": "markdown",
   "id": "906769c4-5154-4084-ae22-54380328bb35",
   "metadata": {},
   "source": [
    "## 6.3 - Declare functions to perform DEA and write the results"
   ]
  },
  {
   "cell_type": "code",
   "execution_count": 21,
   "id": "ceadeeaa-e289-4610-bcf3-5935779f6340",
   "metadata": {},
   "outputs": [],
   "source": [
    "performDEAnalysis <- function(rse, month) {\n",
    "  # Define the regex pattern based on the month\n",
    "  regex_pattern <- if(month == \"M0\") \"M0(\\\\D|$)\" else month\n",
    "  \n",
    "  # Filter the SummarizedExperiment object for the current month\n",
    "  selected_samples <- grep(regex_pattern, colData(rse)$group, value = TRUE)\n",
    "  rse_filtered <- rse[, colData(rse)$group %in% selected_samples]\n",
    "\n",
    "   # Display the groups and the number of samples being compared\n",
    "  group_counts <- table(colData(rse_filtered)$group, colData(rse_filtered)$Month)\n",
    "  print(\"Groups and the number of samples being compared:\")\n",
    "  print(group_counts)\n",
    "  \n",
    "  # Perform differential expression analysis\n",
    "  de_result <- multi_de_pairs(summarized = rse_filtered,\n",
    "                              paired = \"unpaired\",\n",
    "                              ruv_correct = FALSE,\n",
    "                               ensembl_annotate = org.Hs.eg.db)\n",
    "  \n",
    "  # Print confirmation message\n",
    "  print(paste(\"The RNA-seq data for the month\", month, \"has been successfully processed.\"))\n",
    "  \n",
    "  # Return the DE analysis result\n",
    "  return(de_result)\n",
    "}\n",
    "\n",
    "writeDEResults <- function(de_result) {\n",
    "  # Infer contrast name from the names of the merged component\n",
    "  contrast_name <- names(de_result$merged)[1]\n",
    "  \n",
    "  # Write specific portions of the DE result to disk\n",
    "  write.csv(de_result$merged[[contrast_name]], \n",
    "            paste0(\"/home/jovyan/Data4Docker/Merged_\", contrast_name, \".csv\"))\n",
    "  write.csv(de_result$deseq['full_results']$full_results[[contrast_name]], \n",
    "            paste0(\"/home/jovyan/Data4Docker/deseq_\", contrast_name, \".csv\"))\n",
    "  write.csv(de_result$edger['full_results']$full_results[[contrast_name]]$table, \n",
    "            paste0(\"/home/jovyan/Data4Docker/edger_\", contrast_name, \".csv\"))\n",
    "  write.csv(de_result$voom[['full_results']][[contrast_name]], \n",
    "            paste0(\"/home/jovyan/Data4Docker/voom_\", contrast_name, \".csv\"))\n",
    "}"
   ]
  },
  {
   "cell_type": "markdown",
   "id": "7e20c3d6-39ff-438e-8771-c56c20c8a497",
   "metadata": {},
   "source": [
    "# 7 - Executing the workflow"
   ]
  },
  {
   "cell_type": "code",
   "execution_count": 22,
   "id": "ab18d790-fb54-4efe-a170-e51853d804a7",
   "metadata": {},
   "outputs": [
    {
     "name": "stdout",
     "output_type": "stream",
     "text": [
      "[1] \"Groups and the number of samples being compared:\"\n",
      "            \n",
      "              M0\n",
      "  Case_M0    206\n",
      "  Control_M0 250\n"
     ]
    },
    {
     "name": "stderr",
     "output_type": "stream",
     "text": [
      "converting counts to integer mode\n",
      "\n",
      "using supplied model matrix\n",
      "\n",
      "estimating size factors\n",
      "\n",
      "estimating dispersions\n",
      "\n",
      "gene-wise dispersion estimates\n",
      "\n",
      "mean-dispersion relationship\n",
      "\n",
      "final dispersion estimates\n",
      "\n",
      "fitting model and testing\n",
      "\n",
      "-- replacing outliers and refitting for 2783 genes\n",
      "-- DESeq argument 'minReplicatesForReplace' = 7 \n",
      "-- original counts are preserved in counts(dds)\n",
      "\n",
      "estimating dispersions\n",
      "\n",
      "fitting model and testing\n",
      "\n",
      "'select()' returned 1:many mapping between keys and columns\n",
      "\n",
      "'select()' returned 1:many mapping between keys and columns\n",
      "\n",
      "'select()' returned 1:many mapping between keys and columns\n",
      "\n"
     ]
    },
    {
     "name": "stdout",
     "output_type": "stream",
     "text": [
      "[1] \"The RNA-seq data for the month M0 has been successfully processed.\"\n",
      "Completed processing for month: M0 \n",
      "[1] \"Groups and the number of samples being compared:\"\n",
      "             \n",
      "              M06\n",
      "  Case_M06    140\n",
      "  Control_M06  87\n"
     ]
    },
    {
     "name": "stderr",
     "output_type": "stream",
     "text": [
      "converting counts to integer mode\n",
      "\n",
      "using supplied model matrix\n",
      "\n",
      "estimating size factors\n",
      "\n",
      "estimating dispersions\n",
      "\n",
      "gene-wise dispersion estimates\n",
      "\n",
      "mean-dispersion relationship\n",
      "\n",
      "final dispersion estimates\n",
      "\n",
      "fitting model and testing\n",
      "\n",
      "-- replacing outliers and refitting for 4751 genes\n",
      "-- DESeq argument 'minReplicatesForReplace' = 7 \n",
      "-- original counts are preserved in counts(dds)\n",
      "\n",
      "estimating dispersions\n",
      "\n",
      "fitting model and testing\n",
      "\n",
      "'select()' returned 1:many mapping between keys and columns\n",
      "\n",
      "'select()' returned 1:many mapping between keys and columns\n",
      "\n",
      "'select()' returned 1:many mapping between keys and columns\n",
      "\n"
     ]
    },
    {
     "name": "stdout",
     "output_type": "stream",
     "text": [
      "[1] \"The RNA-seq data for the month M06 has been successfully processed.\"\n",
      "Completed processing for month: M06 \n",
      "[1] \"Groups and the number of samples being compared:\"\n",
      "             \n",
      "              M12\n",
      "  Case_M12     82\n",
      "  Control_M12  37\n"
     ]
    },
    {
     "name": "stderr",
     "output_type": "stream",
     "text": [
      "Warning message in multi_de_pairs(summarized = rse_filtered, paired = \"unpaired\", :\n",
      "\"sample_table provided contained groups with less than 2 replicates!\"\n",
      "Warning message in multi_de_pairs(summarized = rse_filtered, paired = \"unpaired\", :\n",
      "\"Length\tDo NOT contain biological replicates!\"\n",
      "converting counts to integer mode\n",
      "\n",
      "using supplied model matrix\n",
      "\n",
      "estimating size factors\n",
      "\n",
      "estimating dispersions\n",
      "\n",
      "gene-wise dispersion estimates\n",
      "\n",
      "mean-dispersion relationship\n",
      "\n",
      "final dispersion estimates\n",
      "\n",
      "fitting model and testing\n",
      "\n",
      "-- replacing outliers and refitting for 9848 genes\n",
      "-- DESeq argument 'minReplicatesForReplace' = 7 \n",
      "-- original counts are preserved in counts(dds)\n",
      "\n",
      "estimating dispersions\n",
      "\n",
      "fitting model and testing\n",
      "\n",
      "'select()' returned 1:many mapping between keys and columns\n",
      "\n",
      "'select()' returned 1:many mapping between keys and columns\n",
      "\n",
      "'select()' returned 1:many mapping between keys and columns\n",
      "\n"
     ]
    },
    {
     "name": "stdout",
     "output_type": "stream",
     "text": [
      "[1] \"The RNA-seq data for the month M12 has been successfully processed.\"\n",
      "Completed processing for month: M12 \n",
      "[1] \"Groups and the number of samples being compared:\"\n",
      "             \n",
      "              M24\n",
      "  Case_M24     98\n",
      "  Control_M24  57\n"
     ]
    },
    {
     "name": "stderr",
     "output_type": "stream",
     "text": [
      "Warning message in multi_de_pairs(summarized = rse_filtered, paired = \"unpaired\", :\n",
      "\"sample_table provided contained groups with less than 2 replicates!\"\n",
      "Warning message in multi_de_pairs(summarized = rse_filtered, paired = \"unpaired\", :\n",
      "\"Length\tDo NOT contain biological replicates!\"\n",
      "converting counts to integer mode\n",
      "\n",
      "using supplied model matrix\n",
      "\n",
      "estimating size factors\n",
      "\n",
      "estimating dispersions\n",
      "\n",
      "gene-wise dispersion estimates\n",
      "\n",
      "mean-dispersion relationship\n",
      "\n",
      "final dispersion estimates\n",
      "\n",
      "fitting model and testing\n",
      "\n",
      "-- replacing outliers and refitting for 1947 genes\n",
      "-- DESeq argument 'minReplicatesForReplace' = 7 \n",
      "-- original counts are preserved in counts(dds)\n",
      "\n",
      "estimating dispersions\n",
      "\n",
      "fitting model and testing\n",
      "\n",
      "'select()' returned 1:many mapping between keys and columns\n",
      "\n",
      "'select()' returned 1:many mapping between keys and columns\n",
      "\n",
      "'select()' returned 1:many mapping between keys and columns\n",
      "\n"
     ]
    },
    {
     "name": "stdout",
     "output_type": "stream",
     "text": [
      "[1] \"The RNA-seq data for the month M24 has been successfully processed.\"\n",
      "Completed processing for month: M24 \n",
      "[1] \"Groups and the number of samples being compared:\"\n",
      "             \n",
      "              M36\n",
      "  Case_M36      6\n",
      "  Control_M36   5\n"
     ]
    },
    {
     "name": "stderr",
     "output_type": "stream",
     "text": [
      "Warning message in multi_de_pairs(summarized = rse_filtered, paired = \"unpaired\", :\n",
      "\"sample_table provided contained groups with less than 2 replicates!\"\n",
      "Warning message in multi_de_pairs(summarized = rse_filtered, paired = \"unpaired\", :\n",
      "\"Length\tDo NOT contain biological replicates!\"\n",
      "converting counts to integer mode\n",
      "\n",
      "using supplied model matrix\n",
      "\n",
      "estimating size factors\n",
      "\n",
      "estimating dispersions\n",
      "\n",
      "gene-wise dispersion estimates\n",
      "\n",
      "mean-dispersion relationship\n",
      "\n",
      "final dispersion estimates\n",
      "\n",
      "fitting model and testing\n",
      "\n",
      "'select()' returned 1:many mapping between keys and columns\n",
      "\n",
      "'select()' returned 1:many mapping between keys and columns\n",
      "\n",
      "'select()' returned 1:many mapping between keys and columns\n",
      "\n"
     ]
    },
    {
     "name": "stdout",
     "output_type": "stream",
     "text": [
      "[1] \"The RNA-seq data for the month M36 has been successfully processed.\"\n",
      "Completed processing for month: M36 \n"
     ]
    }
   ],
   "source": [
    "# Define the vector of time points\n",
    "time_points <- c(\"M0\", \"M06\", \"M12\", \"M24\", \"M36\")\n",
    "\n",
    "# Loop through each time point\n",
    "for(month in time_points) {\n",
    "  # Perform DE analysis for the current month\n",
    "  de_result <- performDEAnalysis(rse, month)\n",
    "  \n",
    "  # Write the DE analysis results to disk\n",
    "  writeDEResults(de_result)\n",
    "  \n",
    "  # Print message indicating completion of processing for the current month\n",
    "  cat(\"Completed processing for month:\", month, \"\\n\")\n",
    "}"
   ]
  },
  {
   "cell_type": "code",
   "execution_count": null,
   "id": "fb62ce76-0631-4aca-9ba6-74e8181c2bce",
   "metadata": {},
   "outputs": [],
   "source": []
  }
 ],
 "metadata": {
  "kernelspec": {
   "display_name": "R",
   "language": "R",
   "name": "ir"
  },
  "language_info": {
   "codemirror_mode": "r",
   "file_extension": ".r",
   "mimetype": "text/x-r-source",
   "name": "R",
   "pygments_lexer": "r",
   "version": "4.3.1"
  }
 },
 "nbformat": 4,
 "nbformat_minor": 5
}
